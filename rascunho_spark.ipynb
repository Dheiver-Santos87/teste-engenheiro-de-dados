{
  "cells": [
    {
      "cell_type": "code",
      "execution_count": null,
      "metadata": {
        "id": "A12iC9PpFjdo"
      },
      "outputs": [],
      "source": [
        "# Instalando o Java\n",
        "!apt-get install openjdk-8-jdk-headless -qq > /dev/null"
      ]
    },
    {
      "cell_type": "code",
      "execution_count": null,
      "metadata": {
        "id": "abW3gdjFFu_J"
      },
      "outputs": [],
      "source": [
        "# Fazendo download\n",
        "!wget -q https://archive.apache.org/dist/spark/spark-3.1.2/spark-3.1.2-bin-hadoop2.7.tgz\n",
        "\n",
        "# Descompactando os arquivos\n",
        "!tar xf spark-3.1.2-bin-hadoop2.7.tgz"
      ]
    },
    {
      "cell_type": "code",
      "execution_count": null,
      "metadata": {
        "id": "WOd7QTsMF6K8"
      },
      "outputs": [],
      "source": [
        "# Importando a biblioteca os\n",
        "import os\n",
        "\n",
        "# Definindo a variável de ambiente do Java\n",
        "os.environ[\"JAVA_HOME\"] = \"/usr/lib/jvm/java-8-openjdk-amd64\"\n",
        "\n",
        "# Definindo a variável de ambiente do Spark\n",
        "os.environ[\"SPARK_HOME\"] = \"/content/spark-3.1.2-bin-hadoop2.7\""
      ]
    },
    {
      "cell_type": "code",
      "execution_count": null,
      "metadata": {
        "id": "78rFsiC9F8VR"
      },
      "outputs": [],
      "source": [
        "# instalando a findspark\n",
        "!pip install -q findspark"
      ]
    },
    {
      "cell_type": "code",
      "execution_count": null,
      "metadata": {
        "id": "6nc7JMkTF_TR"
      },
      "outputs": [],
      "source": [
        "# Importando a findspark\n",
        "import findspark\n",
        "\n",
        "# Iniciando o findspark\n",
        "findspark.init()"
      ]
    },
    {
      "cell_type": "code",
      "execution_count": null,
      "metadata": {
        "colab": {
          "base_uri": "https://localhost:8080/",
          "height": 222
        },
        "id": "8g5_mIrAGCig",
        "outputId": "795c1463-4403-40e3-b3f2-a41b673640f4"
      },
      "outputs": [
        {
          "output_type": "execute_result",
          "data": {
            "text/plain": [
              "<pyspark.sql.session.SparkSession at 0x7fb150b35b10>"
            ],
            "text/html": [
              "\n",
              "            <div>\n",
              "                <p><b>SparkSession - in-memory</b></p>\n",
              "                \n",
              "        <div>\n",
              "            <p><b>SparkContext</b></p>\n",
              "\n",
              "            <p><a href=\"http://6e5a87d7e8e2:4040\">Spark UI</a></p>\n",
              "\n",
              "            <dl>\n",
              "              <dt>Version</dt>\n",
              "                <dd><code>v3.1.2</code></dd>\n",
              "              <dt>Master</dt>\n",
              "                <dd><code>local[*]</code></dd>\n",
              "              <dt>AppName</dt>\n",
              "                <dd><code>pyspark-shell</code></dd>\n",
              "            </dl>\n",
              "        </div>\n",
              "        \n",
              "            </div>\n",
              "        "
            ]
          },
          "metadata": {},
          "execution_count": 14
        }
      ],
      "source": [
        "# importando o pacote necessário para iniciar uma seção Spark\n",
        "from pyspark.sql import SparkSession\n",
        "\n",
        "# iniciando o spark context\n",
        "sc = SparkSession.builder.master('local[*]').getOrCreate()\n",
        "\n",
        "# Verificando se a sessão foi criada\n",
        "sc"
      ]
    },
    {
      "cell_type": "code",
      "source": [
        "from google.colab import drive\n",
        "drive.mount('/content/drive')"
      ],
      "metadata": {
        "colab": {
          "base_uri": "https://localhost:8080/"
        },
        "id": "Yh3eAFsSXn8t",
        "outputId": "cae5a005-f440-4ebe-d5f9-3c457722b2d9"
      },
      "execution_count": null,
      "outputs": [
        {
          "output_type": "stream",
          "name": "stdout",
          "text": [
            "Drive already mounted at /content/drive; to attempt to forcibly remount, call drive.mount(\"/content/drive\", force_remount=True).\n"
          ]
        }
      ]
    },
    {
      "cell_type": "code",
      "execution_count": null,
      "metadata": {
        "id": "AnbV5SKIGU5w"
      },
      "outputs": [],
      "source": [
        "# carregando um conjunto de dados que baixamos da internet\n",
        "df = sc.read.csv(\n",
        "    path = \"/content/MICRODADOS_ENEM_2020.csv\", \n",
        "    inferSchema = True, \n",
        "    header = True,\n",
        "    sep = ';', \n",
        "    encoding = \"UTF-8\")"
      ]
    },
    {
      "cell_type": "code",
      "execution_count": null,
      "metadata": {
        "id": "9XWT6_RLGaTw",
        "colab": {
          "base_uri": "https://localhost:8080/"
        },
        "outputId": "891dfa2c-5109-4656-e5cf-22c0448d3ee3"
      },
      "outputs": [
        {
          "output_type": "execute_result",
          "data": {
            "text/plain": [
              "pyspark.sql.dataframe.DataFrame"
            ]
          },
          "metadata": {},
          "execution_count": 17
        }
      ],
      "source": [
        "# Verificando o tipo de objeto criado\n",
        "type(df)"
      ]
    },
    {
      "cell_type": "code",
      "execution_count": null,
      "metadata": {
        "id": "Kw75YAGOGdMr",
        "colab": {
          "base_uri": "https://localhost:8080/"
        },
        "outputId": "7e7c762b-db1d-4173-ea28-f9d58b1efc7f"
      },
      "outputs": [
        {
          "output_type": "stream",
          "name": "stdout",
          "text": [
            "+------------+------+---------------+-------+---------------+-----------+----------------+---------------+---------------+---------+---------+------------+----------------+-------------------+---------+---------+----------------------+------------------+---------------+------------------+--------------------+-----------+-----------+--------------+--------------+--------------+--------------+-----------+-----------+-----------+-----------+----------+----------+----------+----------+--------------------+--------------------+--------------------+--------------------+---------+--------------------+--------------------+--------------------+--------------------+-----------------+-------------+-------------+-------------+-------------+-------------+---------------+----+----+----+----+----+----+----+----+----+----+----+----+----+----+----+----+----+----+----+----+----+----+----+----+----+\n",
            "|NU_INSCRICAO|NU_ANO|TP_FAIXA_ETARIA|TP_SEXO|TP_ESTADO_CIVIL|TP_COR_RACA|TP_NACIONALIDADE|TP_ST_CONCLUSAO|TP_ANO_CONCLUIU|TP_ESCOLA|TP_ENSINO|IN_TREINEIRO|CO_MUNICIPIO_ESC|   NO_MUNICIPIO_ESC|CO_UF_ESC|SG_UF_ESC|TP_DEPENDENCIA_ADM_ESC|TP_LOCALIZACAO_ESC|TP_SIT_FUNC_ESC|CO_MUNICIPIO_PROVA|  NO_MUNICIPIO_PROVA|CO_UF_PROVA|SG_UF_PROVA|TP_PRESENCA_CN|TP_PRESENCA_CH|TP_PRESENCA_LC|TP_PRESENCA_MT|CO_PROVA_CN|CO_PROVA_CH|CO_PROVA_LC|CO_PROVA_MT|NU_NOTA_CN|NU_NOTA_CH|NU_NOTA_LC|NU_NOTA_MT|     TX_RESPOSTAS_CN|     TX_RESPOSTAS_CH|     TX_RESPOSTAS_LC|     TX_RESPOSTAS_MT|TP_LINGUA|      TX_GABARITO_CN|      TX_GABARITO_CH|      TX_GABARITO_LC|      TX_GABARITO_MT|TP_STATUS_REDACAO|NU_NOTA_COMP1|NU_NOTA_COMP2|NU_NOTA_COMP3|NU_NOTA_COMP4|NU_NOTA_COMP5|NU_NOTA_REDACAO|Q001|Q002|Q003|Q004|Q005|Q006|Q007|Q008|Q009|Q010|Q011|Q012|Q013|Q014|Q015|Q016|Q017|Q018|Q019|Q020|Q021|Q022|Q023|Q024|Q025|\n",
            "+------------+------+---------------+-------+---------------+-----------+----------------+---------------+---------------+---------+---------+------------+----------------+-------------------+---------+---------+----------------------+------------------+---------------+------------------+--------------------+-----------+-----------+--------------+--------------+--------------+--------------+-----------+-----------+-----------+-----------+----------+----------+----------+----------+--------------------+--------------------+--------------------+--------------------+---------+--------------------+--------------------+--------------------+--------------------+-----------------+-------------+-------------+-------------+-------------+-------------+---------------+----+----+----+----+----+----+----+----+----+----+----+----+----+----+----+----+----+----+----+----+----+----+----+----+----+\n",
            "|200006271946|  2020|             11|      F|              1|          2|               1|              1|             11|        1|     null|           0|            null|               null|     null|     null|                  null|              null|           null|           1501402|               Bel�m|         15|         PA|             0|             0|             0|             0|       null|       null|       null|       null|      null|      null|      null|      null|                null|                null|                null|                null|        1|                null|                null|                null|                null|             null|         null|         null|         null|         null|         null|           null|null|null|null|null|null|null|null|null|null|null|null|null|null|null|null|null|null|null|null|null|null|null|null|null|null|\n",
            "|200001195856|  2020|             11|      M|              2|          3|               1|              1|             11|        1|     null|           0|            null|               null|     null|     null|                  null|              null|           null|           2408102|               Natal|         24|         RN|             1|             1|             1|             1|        702|        689|        693|        698|     604.1|     661.7|     595.3|     711.3|BCBDBDCCCDBDDBADE...|BCAECABCDCEBDBBBD...|99999CADDEDADBAAB...|EBEBDEDAECBADCADD...|        1|ABBACBCCCDDDDBAEE...|BCEECDBCCDEBDBBBB...|99999CBDDEDBDBACE...|BBEADECAECBBXCEBA...|                1|          120|          120|          120|          120|          100|            580|null|null|null|null|null|null|null|null|null|null|null|null|null|null|null|null|null|null|null|null|null|null|null|null|null|\n",
            "|200001943954|  2020|              4|      F|              2|          3|               2|              2|              0|        2|        1|           0|         2927408|           Salvador|       29|       BA|                     2|                 1|              1|           2927408|            Salvador|         29|         BA|             0|             0|             0|             0|       null|       null|       null|       null|      null|      null|      null|      null|                null|                null|                null|                null|        0|                null|                null|                null|                null|             null|         null|         null|         null|         null|         null|           null|   B|   C|   A|   D|   3|   B|   A|   B|   A|   A|   A|   B|   A|   B|   A|   B|   A|   A|   B|   A|   A|   A|   A|   A|   A|\n",
            "|200001908998|  2020|              2|      M|              1|          3|               1|              2|              0|        2|        1|           0|         3547304|Santana de Parna�ba|       35|       SP|                     3|                 1|              1|           3547304| Santana de Parna�ba|         35|         SP|             1|             1|             1|             1|        700|        688|        692|        696|     620.8|     675.0|     624.2|     759.4|EBEDCCCDCBDBAECAE...|DABCCACCBCCDCADBD...|DCEAB99999AADAECC...|CBDBDCCDDEECBAABB...|        0|BDECCACBEBDEAEDAE...|DABCCAECBABECADBD...|DCEAD99999AADACCC...|EBDBXCCDAEECBAABA...|                1|          140|          200|          140|          120|          160|            760|null|null|null|null|null|null|null|null|null|null|null|null|null|null|null|null|null|null|null|null|null|null|null|null|null|\n",
            "|200001634757|  2020|              4|      F|              1|          3|               2|              1|              1|        1|     null|           0|            null|               null|     null|     null|                  null|              null|           null|           3121605|          Diamantina|         31|         MG|             0|             0|             0|             0|       null|       null|       null|       null|      null|      null|      null|      null|                null|                null|                null|                null|        1|                null|                null|                null|                null|             null|         null|         null|         null|         null|         null|           null|   B|   G|   B|   B|   3|   B|   A|   B|   D|   A|   A|   B|   A|   B|   A|   A|   A|   A|   B|   A|   B|   B|   A|   A|   B|\n",
            "|200003132410|  2020|              3|      F|              1|          3|               1|              1|              1|        1|     null|           0|            null|               null|     null|     null|                  null|              null|           null|           4305207|         Cerro Largo|         43|         RS|             1|             1|             1|             1|        598|        567|        577|        588|     498.1|     604.7|     505.4|     526.7|CABBEEACAEBEBCCDA...|ACEBBDDCADDAACEEA...|99999CBECEBEDBEEC...|BADCAAAEEDBEDBACE...|        1|CEDBDDDCACCBDAEBA...|DABCBDDDAEDBECECB...|AAEDCACEEECEAACBA...|AEBCCXCCCACCDABCC...|                1|          140|          120|          140|          140|          160|            700|   C|   B|   C|   B|   5|   C|   A|   B|   E|   A|   A|   B|   A|   A|   A|   B|   A|   A|   B|   B|   A|   D|   A|   B|   B|\n",
            "|200001379770|  2020|              9|      M|              1|          3|               1|              1|              6|        1|     null|           0|            null|               null|     null|     null|                  null|              null|           null|           2611606|              Recife|         26|         PE|             0|             0|             0|             0|       null|       null|       null|       null|      null|      null|      null|      null|                null|                null|                null|                null|        0|                null|                null|                null|                null|             null|         null|         null|         null|         null|         null|           null|null|null|null|null|null|null|null|null|null|null|null|null|null|null|null|null|null|null|null|null|null|null|null|null|null|\n",
            "|200001334237|  2020|              4|      M|              1|          1|               1|              1|              1|        1|     null|           0|            null|               null|     null|     null|                  null|              null|           null|           3550308|           S�o Paulo|         35|         SP|             1|             1|             1|             1|        699|        687|        691|        695|     604.6|     604.8|     562.1|     753.2|CECACBBCADACADDEE...|EAADABBEABCADDBAA...|CADDE99999AEEADBA...|BABADDBDAEBAEBBBE...|        0|DEAAECBBCDCBAEBEE...|EAAADBBEDBDACDBCC...|CADDE99999DEBBBBB...|BABBDABAEEBACBACD...|                1|          140|          120|          120|          120|          100|            600|null|null|null|null|null|null|null|null|null|null|null|null|null|null|null|null|null|null|null|null|null|null|null|null|null|\n",
            "|200006762554|  2020|              5|      F|              2|          3|               1|              1|              3|        1|     null|           0|            null|               null|     null|     null|                  null|              null|           null|           2507507|         Jo�o Pessoa|         25|         PB|             1|             1|             1|             1|        598|        567|        577|        588|     439.7|     383.5|     486.2|     448.5|DABCDCAEDEDCBEDCD...|ECCAEAEACDDABCBDA...|99999DDCBBABECCAC...|EEDCCEACEBAAAADCD...|        1|CEDBDDDCACCBDAEBA...|DABCBDDDAEDBECECB...|AAEDCACEEECEAACBA...|AEBCCXCCCACCDABCC...|                1|          120|          120|          120|          140|          100|            600|   B|   C|   C|   B|   2|   B|   A|   B|   C|   A|   A|   B|   A|   B|   A|   A|   A|   A|   B|   A|   A|   C|   A|   A|   A|\n",
            "|200005146210|  2020|              2|      M|              1|          2|               1|              2|              0|        2|        1|           0|            null|               null|     null|     null|                  null|              null|           null|           2304400|           Fortaleza|         23|         CE|             0|             0|             0|             0|       null|       null|       null|       null|      null|      null|      null|      null|                null|                null|                null|                null|        0|                null|                null|                null|                null|             null|         null|         null|         null|         null|         null|           null|   A|   A|   B|   A|   4|   B|   A|   B|   B|   A|   A|   B|   A|   A|   A|   A|   A|   A|   B|   A|   A|   A|   A|   A|   B|\n",
            "|200004902048|  2020|              6|      M|              1|          1|               1|              1|              3|        1|     null|           0|            null|               null|     null|     null|                  null|              null|           null|           3550308|           S�o Paulo|         35|         SP|             0|             0|             0|             0|       null|       null|       null|       null|      null|      null|      null|      null|                null|                null|                null|                null|        0|                null|                null|                null|                null|             null|         null|         null|         null|         null|         null|           null|   B|   B|   B|   B|   7|   B|   A|   B|   C|   A|   A|   B|   A|   A|   A|   B|   A|   A|   B|   A|   A|   C|   B|   B|   B|\n",
            "|200006138472|  2020|              7|      M|              1|          1|               1|              1|              0|        1|     null|           0|            null|               null|     null|     null|                  null|              null|           null|           2910727|           Eun�polis|         29|         BA|             1|             1|             1|             1|        598|        567|        577|        588|     491.1|     631.4|     627.9|     546.5|BAEACEDBACDDEDECE...|CDEABDDDABDBEABCA...|AACDC99999ABDBEDA...|EBCDBEBABDBBDABCB...|        0|CEDBDDDCACCBDAEBA...|DABCBDDDAEDBECECB...|AAEDCACEEECEAACBA...|AEBCCXCCCACCDABCC...|                1|          140|          120|          140|          120|          120|            640|   B|   C|   C|   B|   5|   B|   A|   B|   C|   A|   A|   B|   A|   A|   A|   A|   B|   A|   B|   A|   A|   C|   A|   B|   B|\n",
            "|200005613689|  2020|              3|      F|              1|          3|               1|              1|              1|        1|     null|           0|            null|               null|     null|     null|                  null|              null|           null|           5008305|         Tr�s Lagoas|         50|         MS|             0|             0|             0|             0|       null|       null|       null|       null|      null|      null|      null|      null|                null|                null|                null|                null|        0|                null|                null|                null|                null|             null|         null|         null|         null|         null|         null|           null|   D|   E|   A|   A|   3|   B|   A|   B|   C|   A|   A|   B|   A|   A|   A|   A|   A|   A|   A|   A|   A|   C|   A|   A|   A|\n",
            "|200004833505|  2020|             11|      F|              2|          2|               1|              1|             12|        1|     null|           0|            null|               null|     null|     null|                  null|              null|           null|           3547809|         Santo Andr�|         35|         SP|             0|             0|             0|             0|       null|       null|       null|       null|      null|      null|      null|      null|                null|                null|                null|                null|        1|                null|                null|                null|                null|             null|         null|         null|         null|         null|         null|           null|null|null|null|null|null|null|null|null|null|null|null|null|null|null|null|null|null|null|null|null|null|null|null|null|null|\n",
            "|200004570764|  2020|             11|      M|              1|          2|               1|              1|              0|        1|     null|           0|            null|               null|     null|     null|                  null|              null|           null|           2604007|             Carpina|         26|         PE|             0|             0|             0|             0|       null|       null|       null|       null|      null|      null|      null|      null|                null|                null|                null|                null|        1|                null|                null|                null|                null|             null|         null|         null|         null|         null|         null|           null|   H|   B|   F|   B|   3|   B|   A|   C|   D|   A|   A|   B|   A|   A|   A|   A|   A|   A|   B|   A|   A|   B|   A|   B|   B|\n",
            "|200001071590|  2020|              5|      F|              1|          3|               1|              1|              0|        1|     null|           0|            null|               null|     null|     null|                  null|              null|           null|           2800308|             Aracaju|         28|         SE|             0|             0|             0|             0|       null|       null|       null|       null|      null|      null|      null|      null|                null|                null|                null|                null|        1|                null|                null|                null|                null|             null|         null|         null|         null|         null|         null|           null|null|null|null|null|null|null|null|null|null|null|null|null|null|null|null|null|null|null|null|null|null|null|null|null|null|\n",
            "|200001934470|  2020|              7|      F|              1|          3|               1|              1|              4|        1|     null|           0|            null|               null|     null|     null|                  null|              null|           null|           2933307|Vit�ria da Conquista|         29|         BA|             0|             0|             0|             0|       null|       null|       null|       null|      null|      null|      null|      null|                null|                null|                null|                null|        1|                null|                null|                null|                null|             null|         null|         null|         null|         null|         null|           null|   A|   B|   F|   F|   3|   B|   A|   B|   C|   A|   A|   B|   B|   A|   A|   A|   A|   A|   B|   A|   A|   C|   A|   B|   B|\n",
            "|200006066678|  2020|              4|      M|              1|          1|               1|              1|              1|        1|     null|           0|            null|               null|     null|     null|                  null|              null|           null|           4106902|            Curitiba|         41|         PR|             0|             0|             0|             0|       null|       null|       null|       null|      null|      null|      null|      null|                null|                null|                null|                null|        0|                null|                null|                null|                null|             null|         null|         null|         null|         null|         null|           null|null|null|null|null|null|null|null|null|null|null|null|null|null|null|null|null|null|null|null|null|null|null|null|null|null|\n",
            "|200003343448|  2020|              7|      F|              1|          3|               1|              1|              3|        1|     null|           0|            null|               null|     null|     null|                  null|              null|           null|           2704302|              Macei�|         27|         AL|             1|             1|             1|             1|        597|        569|        580|        587|     422.4|     488.1|     559.1|     420.3|BDCEDABCECACBDCBB...|CAEADAEEDEDBDDCAB...|CADAA99999ABCBEBD...|BBCCDBEADABBE*CED...|        0|DDBACBDDDECDAEDCC...|DECCADEBDECBBECDD...|DCEAAEEEACAACBBEB...|DABCCAEDBBCCCABCA...|                1|          140|          180|          140|          160|          180|            800|   C|   C|   C|   B|   2|   B|   A|   B|   C|   A|   A|   B|   A|   A|   A|   A|   A|   A|   B|   B|   A|   C|   A|   B|   B|\n",
            "|200005966328|  2020|             13|      M|              1|          2|               1|              1|              0|        1|     null|           0|            null|               null|     null|     null|                  null|              null|           null|           1501402|               Bel�m|         15|         PA|             1|             1|             1|             1|        600|        570|        579|        589|     486.0|     503.3|     439.8|     405.6|DBEBBBCCDCBCAEBAE...|BABAEABBEDBDCDBBE...|99999EAADBDAABCBD...|BBAADDCCEABAAEBBA...|        1|DCDXDCCAEBADCBAAE...|BDDBECECBACDBDEEB...|AACDEEEECADBBCAAA...|BAECDBBXCCCBDBACC...|                1|          100|          100|          120|          100|           80|            500|   C|   D|   C|   C|   5|   D|   A|   C|   C|   A|   A|   B|   A|   A|   A|   A|   A|   A|   B|   B|   A|   C|   A|   A|   A|\n",
            "+------------+------+---------------+-------+---------------+-----------+----------------+---------------+---------------+---------+---------+------------+----------------+-------------------+---------+---------+----------------------+------------------+---------------+------------------+--------------------+-----------+-----------+--------------+--------------+--------------+--------------+-----------+-----------+-----------+-----------+----------+----------+----------+----------+--------------------+--------------------+--------------------+--------------------+---------+--------------------+--------------------+--------------------+--------------------+-----------------+-------------+-------------+-------------+-------------+-------------+---------------+----+----+----+----+----+----+----+----+----+----+----+----+----+----+----+----+----+----+----+----+----+----+----+----+----+\n",
            "only showing top 20 rows\n",
            "\n"
          ]
        }
      ],
      "source": [
        "# Espiando o dataset\n",
        "df.show()"
      ]
    },
    {
      "cell_type": "code",
      "execution_count": null,
      "metadata": {
        "id": "syH0A6PWGs4m",
        "colab": {
          "base_uri": "https://localhost:8080/"
        },
        "outputId": "bf8db83a-00a5-4300-c49c-ebb6218b9193"
      },
      "outputs": [
        {
          "output_type": "stream",
          "name": "stdout",
          "text": [
            "root\n",
            " |-- NU_INSCRICAO: long (nullable = true)\n",
            " |-- NU_ANO: integer (nullable = true)\n",
            " |-- TP_FAIXA_ETARIA: integer (nullable = true)\n",
            " |-- TP_SEXO: string (nullable = true)\n",
            " |-- TP_ESTADO_CIVIL: integer (nullable = true)\n",
            " |-- TP_COR_RACA: integer (nullable = true)\n",
            " |-- TP_NACIONALIDADE: integer (nullable = true)\n",
            " |-- TP_ST_CONCLUSAO: integer (nullable = true)\n",
            " |-- TP_ANO_CONCLUIU: integer (nullable = true)\n",
            " |-- TP_ESCOLA: integer (nullable = true)\n",
            " |-- TP_ENSINO: integer (nullable = true)\n",
            " |-- IN_TREINEIRO: integer (nullable = true)\n",
            " |-- CO_MUNICIPIO_ESC: integer (nullable = true)\n",
            " |-- NO_MUNICIPIO_ESC: string (nullable = true)\n",
            " |-- CO_UF_ESC: integer (nullable = true)\n",
            " |-- SG_UF_ESC: string (nullable = true)\n",
            " |-- TP_DEPENDENCIA_ADM_ESC: integer (nullable = true)\n",
            " |-- TP_LOCALIZACAO_ESC: integer (nullable = true)\n",
            " |-- TP_SIT_FUNC_ESC: integer (nullable = true)\n",
            " |-- CO_MUNICIPIO_PROVA: integer (nullable = true)\n",
            " |-- NO_MUNICIPIO_PROVA: string (nullable = true)\n",
            " |-- CO_UF_PROVA: integer (nullable = true)\n",
            " |-- SG_UF_PROVA: string (nullable = true)\n",
            " |-- TP_PRESENCA_CN: integer (nullable = true)\n",
            " |-- TP_PRESENCA_CH: integer (nullable = true)\n",
            " |-- TP_PRESENCA_LC: integer (nullable = true)\n",
            " |-- TP_PRESENCA_MT: integer (nullable = true)\n",
            " |-- CO_PROVA_CN: integer (nullable = true)\n",
            " |-- CO_PROVA_CH: integer (nullable = true)\n",
            " |-- CO_PROVA_LC: integer (nullable = true)\n",
            " |-- CO_PROVA_MT: integer (nullable = true)\n",
            " |-- NU_NOTA_CN: double (nullable = true)\n",
            " |-- NU_NOTA_CH: double (nullable = true)\n",
            " |-- NU_NOTA_LC: double (nullable = true)\n",
            " |-- NU_NOTA_MT: double (nullable = true)\n",
            " |-- TX_RESPOSTAS_CN: string (nullable = true)\n",
            " |-- TX_RESPOSTAS_CH: string (nullable = true)\n",
            " |-- TX_RESPOSTAS_LC: string (nullable = true)\n",
            " |-- TX_RESPOSTAS_MT: string (nullable = true)\n",
            " |-- TP_LINGUA: integer (nullable = true)\n",
            " |-- TX_GABARITO_CN: string (nullable = true)\n",
            " |-- TX_GABARITO_CH: string (nullable = true)\n",
            " |-- TX_GABARITO_LC: string (nullable = true)\n",
            " |-- TX_GABARITO_MT: string (nullable = true)\n",
            " |-- TP_STATUS_REDACAO: integer (nullable = true)\n",
            " |-- NU_NOTA_COMP1: integer (nullable = true)\n",
            " |-- NU_NOTA_COMP2: integer (nullable = true)\n",
            " |-- NU_NOTA_COMP3: integer (nullable = true)\n",
            " |-- NU_NOTA_COMP4: integer (nullable = true)\n",
            " |-- NU_NOTA_COMP5: integer (nullable = true)\n",
            " |-- NU_NOTA_REDACAO: integer (nullable = true)\n",
            " |-- Q001: string (nullable = true)\n",
            " |-- Q002: string (nullable = true)\n",
            " |-- Q003: string (nullable = true)\n",
            " |-- Q004: string (nullable = true)\n",
            " |-- Q005: integer (nullable = true)\n",
            " |-- Q006: string (nullable = true)\n",
            " |-- Q007: string (nullable = true)\n",
            " |-- Q008: string (nullable = true)\n",
            " |-- Q009: string (nullable = true)\n",
            " |-- Q010: string (nullable = true)\n",
            " |-- Q011: string (nullable = true)\n",
            " |-- Q012: string (nullable = true)\n",
            " |-- Q013: string (nullable = true)\n",
            " |-- Q014: string (nullable = true)\n",
            " |-- Q015: string (nullable = true)\n",
            " |-- Q016: string (nullable = true)\n",
            " |-- Q017: string (nullable = true)\n",
            " |-- Q018: string (nullable = true)\n",
            " |-- Q019: string (nullable = true)\n",
            " |-- Q020: string (nullable = true)\n",
            " |-- Q021: string (nullable = true)\n",
            " |-- Q022: string (nullable = true)\n",
            " |-- Q023: string (nullable = true)\n",
            " |-- Q024: string (nullable = true)\n",
            " |-- Q025: string (nullable = true)\n",
            "\n"
          ]
        }
      ],
      "source": [
        "# Verificando o schema() deste sparkdataframe\n",
        "df.printSchema()"
      ]
    },
    {
      "cell_type": "code",
      "execution_count": null,
      "metadata": {
        "id": "eA0d_sV-sgGG",
        "colab": {
          "base_uri": "https://localhost:8080/"
        },
        "outputId": "ac044716-c9a3-4298-bcd9-1a178d8fac9a"
      },
      "outputs": [
        {
          "output_type": "stream",
          "name": "stdout",
          "text": [
            "+------------+------+---------------+-------+---------------+-----------+----------------+---------------+---------------+---------+---------+------------+----------------+----------------+---------+---------+----------------------+------------------+---------------+------------------+------------------+-----------+-----------+--------------+--------------+--------------+--------------+-----------+-----------+-----------+-----------+----------+----------+----------+----------+---------------+---------------+---------------+---------------+---------+--------------+--------------+--------------+--------------+-----------------+-------------+-------------+-------------+-------------+-------------+---------------+----+----+----+----+----+----+----+----+----+----+----+----+----+----+----+----+----+----+----+----+----+----+----+----+----+\n",
            "|NU_INSCRICAO|NU_ANO|TP_FAIXA_ETARIA|TP_SEXO|TP_ESTADO_CIVIL|TP_COR_RACA|TP_NACIONALIDADE|TP_ST_CONCLUSAO|TP_ANO_CONCLUIU|TP_ESCOLA|TP_ENSINO|IN_TREINEIRO|CO_MUNICIPIO_ESC|NO_MUNICIPIO_ESC|CO_UF_ESC|SG_UF_ESC|TP_DEPENDENCIA_ADM_ESC|TP_LOCALIZACAO_ESC|TP_SIT_FUNC_ESC|CO_MUNICIPIO_PROVA|NO_MUNICIPIO_PROVA|CO_UF_PROVA|SG_UF_PROVA|TP_PRESENCA_CN|TP_PRESENCA_CH|TP_PRESENCA_LC|TP_PRESENCA_MT|CO_PROVA_CN|CO_PROVA_CH|CO_PROVA_LC|CO_PROVA_MT|NU_NOTA_CN|NU_NOTA_CH|NU_NOTA_LC|NU_NOTA_MT|TX_RESPOSTAS_CN|TX_RESPOSTAS_CH|TX_RESPOSTAS_LC|TX_RESPOSTAS_MT|TP_LINGUA|TX_GABARITO_CN|TX_GABARITO_CH|TX_GABARITO_LC|TX_GABARITO_MT|TP_STATUS_REDACAO|NU_NOTA_COMP1|NU_NOTA_COMP2|NU_NOTA_COMP3|NU_NOTA_COMP4|NU_NOTA_COMP5|NU_NOTA_REDACAO|Q001|Q002|Q003|Q004|Q005|Q006|Q007|Q008|Q009|Q010|Q011|Q012|Q013|Q014|Q015|Q016|Q017|Q018|Q019|Q020|Q021|Q022|Q023|Q024|Q025|\n",
            "+------------+------+---------------+-------+---------------+-----------+----------------+---------------+---------------+---------+---------+------------+----------------+----------------+---------+---------+----------------------+------------------+---------------+------------------+------------------+-----------+-----------+--------------+--------------+--------------+--------------+-----------+-----------+-----------+-----------+----------+----------+----------+----------+---------------+---------------+---------------+---------------+---------+--------------+--------------+--------------+--------------+-----------------+-------------+-------------+-------------+-------------+-------------+---------------+----+----+----+----+----+----+----+----+----+----+----+----+----+----+----+----+----+----+----+----+----+----+----+----+----+\n",
            "|           0|     0|              0|      0|              0|          0|               0|              0|              0|        0|        0|           0|               0|               0|        0|        0|                     0|                 0|              0|                 0|                 0|          0|          0|             0|             0|             0|             0|          0|          0|          0|          0|         0|         0|         0|         0|              0|              0|              0|              0|        0|             0|             0|             0|             0|                0|            0|            0|            0|            0|            0|              0|   0|   0|   0|   0|   0|   0|   0|   0|   0|   0|   0|   0|   0|   0|   0|   0|   0|   0|   0|   0|   0|   0|   0|   0|   0|\n",
            "+------------+------+---------------+-------+---------------+-----------+----------------+---------------+---------------+---------+---------+------------+----------------+----------------+---------+---------+----------------------+------------------+---------------+------------------+------------------+-----------+-----------+--------------+--------------+--------------+--------------+-----------+-----------+-----------+-----------+----------+----------+----------+----------+---------------+---------------+---------------+---------------+---------+--------------+--------------+--------------+--------------+-----------------+-------------+-------------+-------------+-------------+-------------+---------------+----+----+----+----+----+----+----+----+----+----+----+----+----+----+----+----+----+----+----+----+----+----+----+----+----+\n",
            "\n"
          ]
        }
      ],
      "source": [
        "#Uma expressão que retorna true se a coluna for NaN.\n",
        "\n",
        "from pyspark.sql.functions import isnan, when, count, col\n",
        "\n",
        "df.select([count(when(isnan(c), c)).alias(c) for c in df.columns]).show()"
      ]
    },
    {
      "cell_type": "code",
      "execution_count": null,
      "metadata": {
        "id": "MsOlgHG_2UFN",
        "colab": {
          "base_uri": "https://localhost:8080/"
        },
        "outputId": "788ebfad-a41a-4096-8827-1e203112f588"
      },
      "outputs": [
        {
          "output_type": "stream",
          "name": "stdout",
          "text": [
            "+---------+-----------------+\n",
            "|TP_ESCOLA|avg(NU_NOTA_LC)  |\n",
            "+---------+-----------------+\n",
            "|1        |531.0384913566235|\n",
            "|3        |582.3449100938481|\n",
            "|2        |522.357320055366 |\n",
            "+---------+-----------------+\n",
            "\n"
          ]
        }
      ],
      "source": [
        "#média da prova de Linguagens e Códigos por Tipo de escola do Ensino Médio\n",
        "df.groupBy(\"TP_ESCOLA\").avg(\"NU_NOTA_LC\").show(truncate=False)"
      ]
    },
    {
      "cell_type": "code",
      "execution_count": null,
      "metadata": {
        "id": "R2hcSGzn2a7i",
        "colab": {
          "base_uri": "https://localhost:8080/"
        },
        "outputId": "a0ab56c3-a608-4e6a-b989-7fecbe12806b"
      },
      "outputs": [
        {
          "output_type": "stream",
          "name": "stdout",
          "text": [
            "+---------+------------------+\n",
            "|TP_ESCOLA|avg(NU_NOTA_MT)   |\n",
            "+---------+------------------+\n",
            "|1        |527.8932670294267 |\n",
            "|3        |627.7723487881202 |\n",
            "|2        |507.42500380887003|\n",
            "+---------+------------------+\n",
            "\n"
          ]
        }
      ],
      "source": [
        "#média da prova de Matemática por Tipo de escola do Ensino Médio\n",
        "df.groupBy(\"TP_ESCOLA\").avg(\"NU_NOTA_MT\").show(truncate=False)"
      ]
    },
    {
      "cell_type": "code",
      "execution_count": null,
      "metadata": {
        "id": "8P_0O0Mz44Ui",
        "colab": {
          "base_uri": "https://localhost:8080/"
        },
        "outputId": "839a4226-d5ad-4429-8fc2-b888872eecfd"
      },
      "outputs": [
        {
          "output_type": "stream",
          "name": "stdout",
          "text": [
            "+----------------+\n",
            "| avg(NU_NOTA_MT)|\n",
            "+----------------+\n",
            "|528.457666120597|\n",
            "+----------------+\n",
            "\n"
          ]
        }
      ],
      "source": [
        "#média da prova de Matemática em geral\n",
        "from pyspark.sql.functions import mean \n",
        "df.select(mean(\"NU_NOTA_MT\")).show(truncate=True)\t"
      ]
    },
    {
      "cell_type": "code",
      "execution_count": null,
      "metadata": {
        "id": "VOcKwOfv7SwU",
        "colab": {
          "base_uri": "https://localhost:8080/"
        },
        "outputId": "1b635e2b-13df-426e-8b21-6e4c10fc4ee7"
      },
      "outputs": [
        {
          "output_type": "stream",
          "name": "stdout",
          "text": [
            "+-------+--------------------+------+------------------+-------+-------------------+------------------+------------------+------------------+------------------+------------------+-------------------+-------------------+------------------+----------------+------------------+---------+----------------------+-------------------+-------------------+------------------+--------------------+-----------------+-----------+-------------------+------------------+------------------+-------------------+-----------------+------------------+------------------+------------------+------------------+-----------------+-----------------+------------------+--------------------+--------------------+--------------------+--------------------+-------------------+--------------------+--------------------+--------------------+--------------------+------------------+------------------+------------------+------------------+------------------+------------------+------------------+------+------+------+------+------------------+------+------+------+------+------+------+------+------+------+------+------+------+------+------+------+------+------+------+------+------+\n",
            "|summary|        NU_INSCRICAO|NU_ANO|   TP_FAIXA_ETARIA|TP_SEXO|    TP_ESTADO_CIVIL|       TP_COR_RACA|  TP_NACIONALIDADE|   TP_ST_CONCLUSAO|   TP_ANO_CONCLUIU|         TP_ESCOLA|          TP_ENSINO|       IN_TREINEIRO|  CO_MUNICIPIO_ESC|NO_MUNICIPIO_ESC|         CO_UF_ESC|SG_UF_ESC|TP_DEPENDENCIA_ADM_ESC| TP_LOCALIZACAO_ESC|    TP_SIT_FUNC_ESC|CO_MUNICIPIO_PROVA|  NO_MUNICIPIO_PROVA|      CO_UF_PROVA|SG_UF_PROVA|     TP_PRESENCA_CN|    TP_PRESENCA_CH|    TP_PRESENCA_LC|     TP_PRESENCA_MT|      CO_PROVA_CN|       CO_PROVA_CH|       CO_PROVA_LC|       CO_PROVA_MT|        NU_NOTA_CN|       NU_NOTA_CH|       NU_NOTA_LC|        NU_NOTA_MT|     TX_RESPOSTAS_CN|     TX_RESPOSTAS_CH|     TX_RESPOSTAS_LC|     TX_RESPOSTAS_MT|          TP_LINGUA|      TX_GABARITO_CN|      TX_GABARITO_CH|      TX_GABARITO_LC|      TX_GABARITO_MT| TP_STATUS_REDACAO|     NU_NOTA_COMP1|     NU_NOTA_COMP2|     NU_NOTA_COMP3|     NU_NOTA_COMP4|     NU_NOTA_COMP5|   NU_NOTA_REDACAO|  Q001|  Q002|  Q003|  Q004|              Q005|  Q006|  Q007|  Q008|  Q009|  Q010|  Q011|  Q012|  Q013|  Q014|  Q015|  Q016|  Q017|  Q018|  Q019|  Q020|  Q021|  Q022|  Q023|  Q024|  Q025|\n",
            "+-------+--------------------+------+------------------+-------+-------------------+------------------+------------------+------------------+------------------+------------------+-------------------+-------------------+------------------+----------------+------------------+---------+----------------------+-------------------+-------------------+------------------+--------------------+-----------------+-----------+-------------------+------------------+------------------+-------------------+-----------------+------------------+------------------+------------------+------------------+-----------------+-----------------+------------------+--------------------+--------------------+--------------------+--------------------+-------------------+--------------------+--------------------+--------------------+--------------------+------------------+------------------+------------------+------------------+------------------+------------------+------------------+------+------+------+------+------------------+------+------+------+------+------+------+------+------+------+------+------+------+------+------+------+------+------+------+------+------+\n",
            "|  count|              564058|564058|            564058| 564058|             564058|            564058|            564058|            564058|            564058|            564058|             200283|             564058|            124919|          124919|            124919|   124919|                124919|             124919|             124919|            564058|              564058|           564058|     564058|             564058|            564058|            564058|             564058|           340009|            355566|            355566|            340009|            340009|           355566|           355566|            340009|              340009|              355566|              355566|              340009|             564058|              340009|              355566|              355566|              340009|            355566|            355566|            355566|            355566|            355566|            355566|            355566|516096|516096|516096|516096|            516096|516096|516096|516096|516096|516096|516096|516096|516096|516096|516096|516096|516096|516096|516096|516096|516096|516096|516096|516096|516096|\n",
            "|   mean|2.000039248753339...|2020.0|5.1751663835988495|   null| 1.0508032861868815| 2.137352896333356|1.0327608153771421|1.5387371511440313| 2.249951246148446| 1.423740111832471| 1.0063659921211485|0.08081793007102106|3143725.5114914463|            null|31.294286697780162|     null|     2.466150065242277| 1.0239755361474234| 1.0130484553990986|3075321.0690567284|                null|30.60874236337398|       null| 0.6033120707444979| 0.632013019937666| 0.632013019937666| 0.6033120707444979|604.5278948498423| 575.4308482813317| 585.1595062520039| 594.7851086294775|496.62123326147145| 522.511639470587|531.8919843292102|  528.457666120597|                null|                null|                null|                null| 0.5079069882884384|                null|                null|                null|                null|1.0732719101376398|125.66178993492066| 133.0755471558023|119.69474021700613|132.31371953448868|112.65098462732658| 623.3967814695443|  null|  null|  null|  null|3.8046681237599205|  null|  null|  null|  null|  null|  null|  null|  null|  null|  null|  null|  null|  null|  null|  null|  null|  null|  null|  null|  null|\n",
            "| stddev|  1682525.4023869808|   0.0|3.6857340792353006|   null|0.39206992758526144|1.0133217753969408|0.2089535060745876|0.6554160712841133|3.7977963463911495|0.5974084662202653|0.07953299848655017| 0.2725555428719207|  974824.433474259|            null| 9.722393317213635|     null|    0.9541373760952399|0.15297351778145538|0.18511706610918427| 986342.6491665096|                null|  9.8340391796532|       null|0.48974305942242424|0.4839572842155869|0.4839572842155869|0.48974305942242424|23.32137157897158|26.888349516995653|25.761617162506557|24.396904112333058| 82.34011950180339|96.82074508276636|73.18978780410659|120.86105609385278|                null|                null|                null|                null|0.49993791878890836|                null|                null|                null|                null|0.5819991491807672| 32.01429905179821|50.595411571662005|44.182245719813835|  38.7396517564197|  59.8654100052014|201.13972386787833|  null|  null|  null|  null|1.4076661293607455|  null|  null|  null|  null|  null|  null|  null|  null|  null|  null|  null|  null|  null|  null|  null|  null|  null|  null|  null|  null|\n",
            "|    min|        200001014248|  2020|                 1|      F|                  0|                 0|                 0|                 1|                 0|                 1|                  1|                  0|           1100015| Abadia de Goi�s|                11|       AC|                     1|                  1|                  1|           1100015|          Abaetetuba|               11|         AC|                  0|                 0|                 0|                  0|              597|               567|               577|               587|               0.0|              0.0|              0.0|               0.0|***DDECEEAAEBEABE...|*****D**.******B*...|*****99999AEEDDED...|***CBA*BAABDABEBA...|                  0|AAADECDBEADCCDACX...|BCEECDBCCDEBDBBBB...|99999BDCEDAEEABCB...|AEBBDBCDBECAADACD...|                 1|                 0|                 0|                 0|                 0|                 0|                 0|     A|     A|     A|     A|                 1|     A|     A|     A|     A|     A|     A|     A|     A|     A|     A|     A|     A|     A|     A|     A|     A|     A|     A|     A|     A|\n",
            "|    25%|        200002467221|  2020|                 3|   null|                  1|                 1|                 1|                 1|                 0|                 1|                  1|                  0|           2408003|            null|                24|     null|                     2|                  1|                  1|           2407104|                null|               24|       null|                  0|                 0|                 0|                  0|              598|               568|               578|               588|             430.9|            448.1|            487.4|             430.8|                null|                null|                null|                null|                  0|                null|                null|                null|                null|                 1|               120|               120|               100|               120|                60|               500|  null|  null|  null|  null|                 3|  null|  null|  null|  null|  null|  null|  null|  null|  null|  null|  null|  null|  null|  null|  null|  null|  null|  null|  null|  null|\n",
            "|    50%|        200003924337|  2020|                 4|   null|                  1|                 2|                 1|                 1|                 0|                 1|                  1|                  0|           3147907|            null|                31|     null|                     2|                  1|                  1|           3106200|                null|               31|       null|                  1|                 1|                 1|                  1|              599|               569|               579|               589|             490.2|            524.5|            537.5|             511.9|                null|                null|                null|                null|                  1|                null|                null|                null|                null|                 1|               120|               120|               120|               120|               120|               620|  null|  null|  null|  null|                 4|  null|  null|  null|  null|  null|  null|  null|  null|  null|  null|  null|  null|  null|  null|  null|  null|  null|  null|  null|  null|\n",
            "|    75%|        200005382193|  2020|                 7|   null|                  1|                 3|                 1|                 2|                 3|                 2|                  1|                  0|           3549904|            null|                35|     null|                     4|                  1|                  1|           3545803|                null|               35|       null|                  1|                 1|                 1|                  1|              600|               570|               580|               590|             556.6|            592.6|            583.1|             611.7|                null|                null|                null|                null|                  1|                null|                null|                null|                null|                 1|               160|               180|               160|               160|               160|               780|  null|  null|  null|  null|                 4|  null|  null|  null|  null|  null|  null|  null|  null|  null|  null|  null|  null|  null|  null|  null|  null|  null|  null|  null|  null|\n",
            "|    max|        200006839578|  2020|                20|      M|                  4|                 5|                 4|                 4|                14|                 3|                  2|                  1|           5300108|           �urea|                53|       TO|                     4|                  2|                  4|           5300108|�guas Lindas de G...|               53|         TO|                  2|                 2|                 2|                  2|              702|               690|               694|               698|             854.8|            862.6|            767.6|             975.0|EEEEEEEEEEEEEEEEE...|EEEEEEEEEEEEEEEEE...|EEEEE99999ECDCEAE...|EEEEEEEEEEEEEEEEE...|                  1|EABDEDEBECCABEAAA...|EAAADBBEDBDACDBCC...|EEEABDDAEDECDCCAD...|EBDBXCCDAEECBAABA...|                 9|               200|               200|               200|               200|               200|              1000|     H|     H|     F|     F|                20|     Q|     D|     E|     E|     E|     E|     E|     E|     E|     E|     E|     E|     B|     E|     B|     B|     E|     B|     E|     B|\n",
            "+-------+--------------------+------+------------------+-------+-------------------+------------------+------------------+------------------+------------------+------------------+-------------------+-------------------+------------------+----------------+------------------+---------+----------------------+-------------------+-------------------+------------------+--------------------+-----------------+-----------+-------------------+------------------+------------------+-------------------+-----------------+------------------+------------------+------------------+------------------+-----------------+-----------------+------------------+--------------------+--------------------+--------------------+--------------------+-------------------+--------------------+--------------------+--------------------+--------------------+------------------+------------------+------------------+------------------+------------------+------------------+------------------+------+------+------+------+------------------+------+------+------+------+------+------+------+------+------+------+------+------+------+------+------+------+------+------+------+------+\n",
            "\n"
          ]
        }
      ],
      "source": [
        "df.summary().show()"
      ]
    },
    {
      "cell_type": "code",
      "source": [
        "# To count the total rows in the dataframe.\n",
        "print('Number of rows: \\t', df.count())\n",
        "\n",
        "# Number of columns can be counted in this way\n",
        "print('Number of columns: \\t', len(df.columns))\n",
        "\n",
        "# To view the names of the columns\n",
        "print('\\nName of columns: \\n', df.columns)"
      ],
      "metadata": {
        "id": "97uqztjoSyt2",
        "colab": {
          "base_uri": "https://localhost:8080/"
        },
        "outputId": "32911b8f-61e9-4ab2-9ea8-534894ef82b3"
      },
      "execution_count": null,
      "outputs": [
        {
          "output_type": "stream",
          "name": "stdout",
          "text": [
            "Number of rows: \t 564058\n",
            "Number of columns: \t 76\n",
            "\n",
            "Name of columns: \n",
            " ['NU_INSCRICAO', 'NU_ANO', 'TP_FAIXA_ETARIA', 'TP_SEXO', 'TP_ESTADO_CIVIL', 'TP_COR_RACA', 'TP_NACIONALIDADE', 'TP_ST_CONCLUSAO', 'TP_ANO_CONCLUIU', 'TP_ESCOLA', 'TP_ENSINO', 'IN_TREINEIRO', 'CO_MUNICIPIO_ESC', 'NO_MUNICIPIO_ESC', 'CO_UF_ESC', 'SG_UF_ESC', 'TP_DEPENDENCIA_ADM_ESC', 'TP_LOCALIZACAO_ESC', 'TP_SIT_FUNC_ESC', 'CO_MUNICIPIO_PROVA', 'NO_MUNICIPIO_PROVA', 'CO_UF_PROVA', 'SG_UF_PROVA', 'TP_PRESENCA_CN', 'TP_PRESENCA_CH', 'TP_PRESENCA_LC', 'TP_PRESENCA_MT', 'CO_PROVA_CN', 'CO_PROVA_CH', 'CO_PROVA_LC', 'CO_PROVA_MT', 'NU_NOTA_CN', 'NU_NOTA_CH', 'NU_NOTA_LC', 'NU_NOTA_MT', 'TX_RESPOSTAS_CN', 'TX_RESPOSTAS_CH', 'TX_RESPOSTAS_LC', 'TX_RESPOSTAS_MT', 'TP_LINGUA', 'TX_GABARITO_CN', 'TX_GABARITO_CH', 'TX_GABARITO_LC', 'TX_GABARITO_MT', 'TP_STATUS_REDACAO', 'NU_NOTA_COMP1', 'NU_NOTA_COMP2', 'NU_NOTA_COMP3', 'NU_NOTA_COMP4', 'NU_NOTA_COMP5', 'NU_NOTA_REDACAO', 'Q001', 'Q002', 'Q003', 'Q004', 'Q005', 'Q006', 'Q007', 'Q008', 'Q009', 'Q010', 'Q011', 'Q012', 'Q013', 'Q014', 'Q015', 'Q016', 'Q017', 'Q018', 'Q019', 'Q020', 'Q021', 'Q022', 'Q023', 'Q024', 'Q025']\n"
          ]
        }
      ]
    },
    {
      "cell_type": "code",
      "source": [
        "# In pandas head() would do similar thing. It is slighly different here. \n",
        "# This method is not recommended for the large dataset. \n",
        "\n",
        "df.head(5)"
      ],
      "metadata": {
        "id": "h1yNO_-oS77S",
        "colab": {
          "base_uri": "https://localhost:8080/"
        },
        "outputId": "74f399a1-465a-4138-ebe8-94be4892a98b"
      },
      "execution_count": null,
      "outputs": [
        {
          "output_type": "execute_result",
          "data": {
            "text/plain": [
              "[Row(NU_INSCRICAO=200006271946, NU_ANO=2020, TP_FAIXA_ETARIA=11, TP_SEXO='F', TP_ESTADO_CIVIL=1, TP_COR_RACA=2, TP_NACIONALIDADE=1, TP_ST_CONCLUSAO=1, TP_ANO_CONCLUIU=11, TP_ESCOLA=1, TP_ENSINO=None, IN_TREINEIRO=0, CO_MUNICIPIO_ESC=None, NO_MUNICIPIO_ESC=None, CO_UF_ESC=None, SG_UF_ESC=None, TP_DEPENDENCIA_ADM_ESC=None, TP_LOCALIZACAO_ESC=None, TP_SIT_FUNC_ESC=None, CO_MUNICIPIO_PROVA=1501402, NO_MUNICIPIO_PROVA='Bel�m', CO_UF_PROVA=15, SG_UF_PROVA='PA', TP_PRESENCA_CN=0, TP_PRESENCA_CH=0, TP_PRESENCA_LC=0, TP_PRESENCA_MT=0, CO_PROVA_CN=None, CO_PROVA_CH=None, CO_PROVA_LC=None, CO_PROVA_MT=None, NU_NOTA_CN=None, NU_NOTA_CH=None, NU_NOTA_LC=None, NU_NOTA_MT=None, TX_RESPOSTAS_CN=None, TX_RESPOSTAS_CH=None, TX_RESPOSTAS_LC=None, TX_RESPOSTAS_MT=None, TP_LINGUA=1, TX_GABARITO_CN=None, TX_GABARITO_CH=None, TX_GABARITO_LC=None, TX_GABARITO_MT=None, TP_STATUS_REDACAO=None, NU_NOTA_COMP1=None, NU_NOTA_COMP2=None, NU_NOTA_COMP3=None, NU_NOTA_COMP4=None, NU_NOTA_COMP5=None, NU_NOTA_REDACAO=None, Q001=None, Q002=None, Q003=None, Q004=None, Q005=None, Q006=None, Q007=None, Q008=None, Q009=None, Q010=None, Q011=None, Q012=None, Q013=None, Q014=None, Q015=None, Q016=None, Q017=None, Q018=None, Q019=None, Q020=None, Q021=None, Q022=None, Q023=None, Q024=None, Q025=None),\n",
              " Row(NU_INSCRICAO=200001195856, NU_ANO=2020, TP_FAIXA_ETARIA=11, TP_SEXO='M', TP_ESTADO_CIVIL=2, TP_COR_RACA=3, TP_NACIONALIDADE=1, TP_ST_CONCLUSAO=1, TP_ANO_CONCLUIU=11, TP_ESCOLA=1, TP_ENSINO=None, IN_TREINEIRO=0, CO_MUNICIPIO_ESC=None, NO_MUNICIPIO_ESC=None, CO_UF_ESC=None, SG_UF_ESC=None, TP_DEPENDENCIA_ADM_ESC=None, TP_LOCALIZACAO_ESC=None, TP_SIT_FUNC_ESC=None, CO_MUNICIPIO_PROVA=2408102, NO_MUNICIPIO_PROVA='Natal', CO_UF_PROVA=24, SG_UF_PROVA='RN', TP_PRESENCA_CN=1, TP_PRESENCA_CH=1, TP_PRESENCA_LC=1, TP_PRESENCA_MT=1, CO_PROVA_CN=702, CO_PROVA_CH=689, CO_PROVA_LC=693, CO_PROVA_MT=698, NU_NOTA_CN=604.1, NU_NOTA_CH=661.7, NU_NOTA_LC=595.3, NU_NOTA_MT=711.3, TX_RESPOSTAS_CN='BCBDBDCCCDBDDBADEEACEEAECBECCDBCACDEBEECEBAAE', TX_RESPOSTAS_CH='BCAECABCDCEBDBBBDAABABACBCDDDBDDBABDAADACACBC', TX_RESPOSTAS_LC='99999CADDEDADBAABEAADAAAADCADAABDCCBEECAEECAACBBEB', TX_RESPOSTAS_MT='EBEBDEDAECBADCADDABACAEDBEEEAEADCCBCEACDACEBB', TP_LINGUA=1, TX_GABARITO_CN='ABBACBCCCDDDDBAEEBECEDACABDCBEDAECDABECCBBADE', TX_GABARITO_CH='BCEECDBCCDEBDBBBBEAAAEACBCDDDBDDBABDABDDBAABC', TX_GABARITO_LC='99999CBDDEDBDBACECABAAAEAECCDCABCBBBBEEDCECAAEBDEB', TX_GABARITO_MT='BBEADECAECBBXCEBADBACAEDACEDADAADCBCCBBDABBEE', TP_STATUS_REDACAO=1, NU_NOTA_COMP1=120, NU_NOTA_COMP2=120, NU_NOTA_COMP3=120, NU_NOTA_COMP4=120, NU_NOTA_COMP5=100, NU_NOTA_REDACAO=580, Q001=None, Q002=None, Q003=None, Q004=None, Q005=None, Q006=None, Q007=None, Q008=None, Q009=None, Q010=None, Q011=None, Q012=None, Q013=None, Q014=None, Q015=None, Q016=None, Q017=None, Q018=None, Q019=None, Q020=None, Q021=None, Q022=None, Q023=None, Q024=None, Q025=None),\n",
              " Row(NU_INSCRICAO=200001943954, NU_ANO=2020, TP_FAIXA_ETARIA=4, TP_SEXO='F', TP_ESTADO_CIVIL=2, TP_COR_RACA=3, TP_NACIONALIDADE=2, TP_ST_CONCLUSAO=2, TP_ANO_CONCLUIU=0, TP_ESCOLA=2, TP_ENSINO=1, IN_TREINEIRO=0, CO_MUNICIPIO_ESC=2927408, NO_MUNICIPIO_ESC='Salvador', CO_UF_ESC=29, SG_UF_ESC='BA', TP_DEPENDENCIA_ADM_ESC=2, TP_LOCALIZACAO_ESC=1, TP_SIT_FUNC_ESC=1, CO_MUNICIPIO_PROVA=2927408, NO_MUNICIPIO_PROVA='Salvador', CO_UF_PROVA=29, SG_UF_PROVA='BA', TP_PRESENCA_CN=0, TP_PRESENCA_CH=0, TP_PRESENCA_LC=0, TP_PRESENCA_MT=0, CO_PROVA_CN=None, CO_PROVA_CH=None, CO_PROVA_LC=None, CO_PROVA_MT=None, NU_NOTA_CN=None, NU_NOTA_CH=None, NU_NOTA_LC=None, NU_NOTA_MT=None, TX_RESPOSTAS_CN=None, TX_RESPOSTAS_CH=None, TX_RESPOSTAS_LC=None, TX_RESPOSTAS_MT=None, TP_LINGUA=0, TX_GABARITO_CN=None, TX_GABARITO_CH=None, TX_GABARITO_LC=None, TX_GABARITO_MT=None, TP_STATUS_REDACAO=None, NU_NOTA_COMP1=None, NU_NOTA_COMP2=None, NU_NOTA_COMP3=None, NU_NOTA_COMP4=None, NU_NOTA_COMP5=None, NU_NOTA_REDACAO=None, Q001='B', Q002='C', Q003='A', Q004='D', Q005=3, Q006='B', Q007='A', Q008='B', Q009='A', Q010='A', Q011='A', Q012='B', Q013='A', Q014='B', Q015='A', Q016='B', Q017='A', Q018='A', Q019='B', Q020='A', Q021='A', Q022='A', Q023='A', Q024='A', Q025='A'),\n",
              " Row(NU_INSCRICAO=200001908998, NU_ANO=2020, TP_FAIXA_ETARIA=2, TP_SEXO='M', TP_ESTADO_CIVIL=1, TP_COR_RACA=3, TP_NACIONALIDADE=1, TP_ST_CONCLUSAO=2, TP_ANO_CONCLUIU=0, TP_ESCOLA=2, TP_ENSINO=1, IN_TREINEIRO=0, CO_MUNICIPIO_ESC=3547304, NO_MUNICIPIO_ESC='Santana de Parna�ba', CO_UF_ESC=35, SG_UF_ESC='SP', TP_DEPENDENCIA_ADM_ESC=3, TP_LOCALIZACAO_ESC=1, TP_SIT_FUNC_ESC=1, CO_MUNICIPIO_PROVA=3547304, NO_MUNICIPIO_PROVA='Santana de Parna�ba', CO_UF_PROVA=35, SG_UF_PROVA='SP', TP_PRESENCA_CN=1, TP_PRESENCA_CH=1, TP_PRESENCA_LC=1, TP_PRESENCA_MT=1, CO_PROVA_CN=700, CO_PROVA_CH=688, CO_PROVA_LC=692, CO_PROVA_MT=696, NU_NOTA_CN=620.8, NU_NOTA_CH=675.0, NU_NOTA_LC=624.2, NU_NOTA_MT=759.4, TX_RESPOSTAS_CN='EBEDCCCDCBDBAECAECCECEACCBAABBBCEABCAAAEBEBAE', TX_RESPOSTAS_CH='DABCCACCBCCDCADBDCBAAEBDDBAABDBAEBEBBABDABDBE', TX_RESPOSTAS_LC='DCEAB99999AADAECCEBCDDDCBABDDABBCEEBAEDDDADEBECEDB', TX_RESPOSTAS_MT='CBDBDCCDDEECBAABBBADEDEDBECDEBBADAEBAABBECBBA', TP_LINGUA=0, TX_GABARITO_CN='BDECCACBEBDEAEDAECCBAEABCCEADDBBCADCBDDEBDBAC', TX_GABARITO_CH='DABCCAECBABECADBDCCABDBCDDAABDBAEBEBBDBDDBDBE', TX_GABARITO_LC='DCEAD99999AADACCCCBBDDCABAECAABBEECBAEDDBBEEBECEAB', TX_GABARITO_MT='EBDBXCCDAEECBAABABAEDDEDAECBCDCADEEBBABBACBCA', TP_STATUS_REDACAO=1, NU_NOTA_COMP1=140, NU_NOTA_COMP2=200, NU_NOTA_COMP3=140, NU_NOTA_COMP4=120, NU_NOTA_COMP5=160, NU_NOTA_REDACAO=760, Q001=None, Q002=None, Q003=None, Q004=None, Q005=None, Q006=None, Q007=None, Q008=None, Q009=None, Q010=None, Q011=None, Q012=None, Q013=None, Q014=None, Q015=None, Q016=None, Q017=None, Q018=None, Q019=None, Q020=None, Q021=None, Q022=None, Q023=None, Q024=None, Q025=None),\n",
              " Row(NU_INSCRICAO=200001634757, NU_ANO=2020, TP_FAIXA_ETARIA=4, TP_SEXO='F', TP_ESTADO_CIVIL=1, TP_COR_RACA=3, TP_NACIONALIDADE=2, TP_ST_CONCLUSAO=1, TP_ANO_CONCLUIU=1, TP_ESCOLA=1, TP_ENSINO=None, IN_TREINEIRO=0, CO_MUNICIPIO_ESC=None, NO_MUNICIPIO_ESC=None, CO_UF_ESC=None, SG_UF_ESC=None, TP_DEPENDENCIA_ADM_ESC=None, TP_LOCALIZACAO_ESC=None, TP_SIT_FUNC_ESC=None, CO_MUNICIPIO_PROVA=3121605, NO_MUNICIPIO_PROVA='Diamantina', CO_UF_PROVA=31, SG_UF_PROVA='MG', TP_PRESENCA_CN=0, TP_PRESENCA_CH=0, TP_PRESENCA_LC=0, TP_PRESENCA_MT=0, CO_PROVA_CN=None, CO_PROVA_CH=None, CO_PROVA_LC=None, CO_PROVA_MT=None, NU_NOTA_CN=None, NU_NOTA_CH=None, NU_NOTA_LC=None, NU_NOTA_MT=None, TX_RESPOSTAS_CN=None, TX_RESPOSTAS_CH=None, TX_RESPOSTAS_LC=None, TX_RESPOSTAS_MT=None, TP_LINGUA=1, TX_GABARITO_CN=None, TX_GABARITO_CH=None, TX_GABARITO_LC=None, TX_GABARITO_MT=None, TP_STATUS_REDACAO=None, NU_NOTA_COMP1=None, NU_NOTA_COMP2=None, NU_NOTA_COMP3=None, NU_NOTA_COMP4=None, NU_NOTA_COMP5=None, NU_NOTA_REDACAO=None, Q001='B', Q002='G', Q003='B', Q004='B', Q005=3, Q006='B', Q007='A', Q008='B', Q009='D', Q010='A', Q011='A', Q012='B', Q013='A', Q014='B', Q015='A', Q016='A', Q017='A', Q018='A', Q019='B', Q020='A', Q021='B', Q022='B', Q023='A', Q024='A', Q025='B')]"
            ]
          },
          "metadata": {},
          "execution_count": 26
        }
      ]
    },
    {
      "cell_type": "code",
      "source": [
        "# There is also take doing the similar thing \n",
        "\n",
        "df.take(3)"
      ],
      "metadata": {
        "id": "DRzviiK2TmD8",
        "colab": {
          "base_uri": "https://localhost:8080/"
        },
        "outputId": "ec4e5285-9054-445c-e888-89fb94055943"
      },
      "execution_count": null,
      "outputs": [
        {
          "output_type": "execute_result",
          "data": {
            "text/plain": [
              "[Row(NU_INSCRICAO=200006271946, NU_ANO=2020, TP_FAIXA_ETARIA=11, TP_SEXO='F', TP_ESTADO_CIVIL=1, TP_COR_RACA=2, TP_NACIONALIDADE=1, TP_ST_CONCLUSAO=1, TP_ANO_CONCLUIU=11, TP_ESCOLA=1, TP_ENSINO=None, IN_TREINEIRO=0, CO_MUNICIPIO_ESC=None, NO_MUNICIPIO_ESC=None, CO_UF_ESC=None, SG_UF_ESC=None, TP_DEPENDENCIA_ADM_ESC=None, TP_LOCALIZACAO_ESC=None, TP_SIT_FUNC_ESC=None, CO_MUNICIPIO_PROVA=1501402, NO_MUNICIPIO_PROVA='Bel�m', CO_UF_PROVA=15, SG_UF_PROVA='PA', TP_PRESENCA_CN=0, TP_PRESENCA_CH=0, TP_PRESENCA_LC=0, TP_PRESENCA_MT=0, CO_PROVA_CN=None, CO_PROVA_CH=None, CO_PROVA_LC=None, CO_PROVA_MT=None, NU_NOTA_CN=None, NU_NOTA_CH=None, NU_NOTA_LC=None, NU_NOTA_MT=None, TX_RESPOSTAS_CN=None, TX_RESPOSTAS_CH=None, TX_RESPOSTAS_LC=None, TX_RESPOSTAS_MT=None, TP_LINGUA=1, TX_GABARITO_CN=None, TX_GABARITO_CH=None, TX_GABARITO_LC=None, TX_GABARITO_MT=None, TP_STATUS_REDACAO=None, NU_NOTA_COMP1=None, NU_NOTA_COMP2=None, NU_NOTA_COMP3=None, NU_NOTA_COMP4=None, NU_NOTA_COMP5=None, NU_NOTA_REDACAO=None, Q001=None, Q002=None, Q003=None, Q004=None, Q005=None, Q006=None, Q007=None, Q008=None, Q009=None, Q010=None, Q011=None, Q012=None, Q013=None, Q014=None, Q015=None, Q016=None, Q017=None, Q018=None, Q019=None, Q020=None, Q021=None, Q022=None, Q023=None, Q024=None, Q025=None),\n",
              " Row(NU_INSCRICAO=200001195856, NU_ANO=2020, TP_FAIXA_ETARIA=11, TP_SEXO='M', TP_ESTADO_CIVIL=2, TP_COR_RACA=3, TP_NACIONALIDADE=1, TP_ST_CONCLUSAO=1, TP_ANO_CONCLUIU=11, TP_ESCOLA=1, TP_ENSINO=None, IN_TREINEIRO=0, CO_MUNICIPIO_ESC=None, NO_MUNICIPIO_ESC=None, CO_UF_ESC=None, SG_UF_ESC=None, TP_DEPENDENCIA_ADM_ESC=None, TP_LOCALIZACAO_ESC=None, TP_SIT_FUNC_ESC=None, CO_MUNICIPIO_PROVA=2408102, NO_MUNICIPIO_PROVA='Natal', CO_UF_PROVA=24, SG_UF_PROVA='RN', TP_PRESENCA_CN=1, TP_PRESENCA_CH=1, TP_PRESENCA_LC=1, TP_PRESENCA_MT=1, CO_PROVA_CN=702, CO_PROVA_CH=689, CO_PROVA_LC=693, CO_PROVA_MT=698, NU_NOTA_CN=604.1, NU_NOTA_CH=661.7, NU_NOTA_LC=595.3, NU_NOTA_MT=711.3, TX_RESPOSTAS_CN='BCBDBDCCCDBDDBADEEACEEAECBECCDBCACDEBEECEBAAE', TX_RESPOSTAS_CH='BCAECABCDCEBDBBBDAABABACBCDDDBDDBABDAADACACBC', TX_RESPOSTAS_LC='99999CADDEDADBAABEAADAAAADCADAABDCCBEECAEECAACBBEB', TX_RESPOSTAS_MT='EBEBDEDAECBADCADDABACAEDBEEEAEADCCBCEACDACEBB', TP_LINGUA=1, TX_GABARITO_CN='ABBACBCCCDDDDBAEEBECEDACABDCBEDAECDABECCBBADE', TX_GABARITO_CH='BCEECDBCCDEBDBBBBEAAAEACBCDDDBDDBABDABDDBAABC', TX_GABARITO_LC='99999CBDDEDBDBACECABAAAEAECCDCABCBBBBEEDCECAAEBDEB', TX_GABARITO_MT='BBEADECAECBBXCEBADBACAEDACEDADAADCBCCBBDABBEE', TP_STATUS_REDACAO=1, NU_NOTA_COMP1=120, NU_NOTA_COMP2=120, NU_NOTA_COMP3=120, NU_NOTA_COMP4=120, NU_NOTA_COMP5=100, NU_NOTA_REDACAO=580, Q001=None, Q002=None, Q003=None, Q004=None, Q005=None, Q006=None, Q007=None, Q008=None, Q009=None, Q010=None, Q011=None, Q012=None, Q013=None, Q014=None, Q015=None, Q016=None, Q017=None, Q018=None, Q019=None, Q020=None, Q021=None, Q022=None, Q023=None, Q024=None, Q025=None),\n",
              " Row(NU_INSCRICAO=200001943954, NU_ANO=2020, TP_FAIXA_ETARIA=4, TP_SEXO='F', TP_ESTADO_CIVIL=2, TP_COR_RACA=3, TP_NACIONALIDADE=2, TP_ST_CONCLUSAO=2, TP_ANO_CONCLUIU=0, TP_ESCOLA=2, TP_ENSINO=1, IN_TREINEIRO=0, CO_MUNICIPIO_ESC=2927408, NO_MUNICIPIO_ESC='Salvador', CO_UF_ESC=29, SG_UF_ESC='BA', TP_DEPENDENCIA_ADM_ESC=2, TP_LOCALIZACAO_ESC=1, TP_SIT_FUNC_ESC=1, CO_MUNICIPIO_PROVA=2927408, NO_MUNICIPIO_PROVA='Salvador', CO_UF_PROVA=29, SG_UF_PROVA='BA', TP_PRESENCA_CN=0, TP_PRESENCA_CH=0, TP_PRESENCA_LC=0, TP_PRESENCA_MT=0, CO_PROVA_CN=None, CO_PROVA_CH=None, CO_PROVA_LC=None, CO_PROVA_MT=None, NU_NOTA_CN=None, NU_NOTA_CH=None, NU_NOTA_LC=None, NU_NOTA_MT=None, TX_RESPOSTAS_CN=None, TX_RESPOSTAS_CH=None, TX_RESPOSTAS_LC=None, TX_RESPOSTAS_MT=None, TP_LINGUA=0, TX_GABARITO_CN=None, TX_GABARITO_CH=None, TX_GABARITO_LC=None, TX_GABARITO_MT=None, TP_STATUS_REDACAO=None, NU_NOTA_COMP1=None, NU_NOTA_COMP2=None, NU_NOTA_COMP3=None, NU_NOTA_COMP4=None, NU_NOTA_COMP5=None, NU_NOTA_REDACAO=None, Q001='B', Q002='C', Q003='A', Q004='D', Q005=3, Q006='B', Q007='A', Q008='B', Q009='A', Q010='A', Q011='A', Q012='B', Q013='A', Q014='B', Q015='A', Q016='B', Q017='A', Q018='A', Q019='B', Q020='A', Q021='A', Q022='A', Q023='A', Q024='A', Q025='A')]"
            ]
          },
          "metadata": {},
          "execution_count": 27
        }
      ]
    },
    {
      "cell_type": "code",
      "source": [
        "# Selecting a column from the dataframe \n",
        "\n",
        "df.select('TP_COR_RACA').show(5)"
      ],
      "metadata": {
        "id": "kYdH09gKToal",
        "colab": {
          "base_uri": "https://localhost:8080/"
        },
        "outputId": "151bf962-ea18-40af-a786-03ddc4dc2163"
      },
      "execution_count": null,
      "outputs": [
        {
          "output_type": "stream",
          "name": "stdout",
          "text": [
            "+-----------+\n",
            "|TP_COR_RACA|\n",
            "+-----------+\n",
            "|          2|\n",
            "|          3|\n",
            "|          3|\n",
            "|          3|\n",
            "|          3|\n",
            "+-----------+\n",
            "only showing top 5 rows\n",
            "\n"
          ]
        }
      ]
    },
    {
      "cell_type": "code",
      "source": [
        "# Selecting two columns from the dataframe \n",
        "\n",
        "df.select('TP_FAIXA_ETARIA', 'TP_ESTADO_CIVIL').show(5)"
      ],
      "metadata": {
        "id": "GZTLRk7XT-Nk",
        "colab": {
          "base_uri": "https://localhost:8080/"
        },
        "outputId": "9009cfea-9e63-4b14-8b6f-da5da3f952db"
      },
      "execution_count": null,
      "outputs": [
        {
          "output_type": "stream",
          "name": "stdout",
          "text": [
            "+---------------+---------------+\n",
            "|TP_FAIXA_ETARIA|TP_ESTADO_CIVIL|\n",
            "+---------------+---------------+\n",
            "|             11|              1|\n",
            "|             11|              2|\n",
            "|              4|              2|\n",
            "|              2|              1|\n",
            "|              4|              1|\n",
            "+---------------+---------------+\n",
            "only showing top 5 rows\n",
            "\n"
          ]
        }
      ]
    },
    {
      "cell_type": "code",
      "source": [
        "# Droping unwanted row from datafrmae\n",
        "\n",
        "df.drop('TX_RESPOSTAS_CN').show(5)"
      ],
      "metadata": {
        "id": "c_AqaUT-UHXN",
        "colab": {
          "base_uri": "https://localhost:8080/"
        },
        "outputId": "1dc858f1-e30d-402c-edec-5dc29e773611"
      },
      "execution_count": null,
      "outputs": [
        {
          "output_type": "stream",
          "name": "stdout",
          "text": [
            "+------------+------+---------------+-------+---------------+-----------+----------------+---------------+---------------+---------+---------+------------+----------------+-------------------+---------+---------+----------------------+------------------+---------------+------------------+-------------------+-----------+-----------+--------------+--------------+--------------+--------------+-----------+-----------+-----------+-----------+----------+----------+----------+----------+--------------------+--------------------+--------------------+---------+--------------------+--------------------+--------------------+--------------------+-----------------+-------------+-------------+-------------+-------------+-------------+---------------+----+----+----+----+----+----+----+----+----+----+----+----+----+----+----+----+----+----+----+----+----+----+----+----+----+\n",
            "|NU_INSCRICAO|NU_ANO|TP_FAIXA_ETARIA|TP_SEXO|TP_ESTADO_CIVIL|TP_COR_RACA|TP_NACIONALIDADE|TP_ST_CONCLUSAO|TP_ANO_CONCLUIU|TP_ESCOLA|TP_ENSINO|IN_TREINEIRO|CO_MUNICIPIO_ESC|   NO_MUNICIPIO_ESC|CO_UF_ESC|SG_UF_ESC|TP_DEPENDENCIA_ADM_ESC|TP_LOCALIZACAO_ESC|TP_SIT_FUNC_ESC|CO_MUNICIPIO_PROVA| NO_MUNICIPIO_PROVA|CO_UF_PROVA|SG_UF_PROVA|TP_PRESENCA_CN|TP_PRESENCA_CH|TP_PRESENCA_LC|TP_PRESENCA_MT|CO_PROVA_CN|CO_PROVA_CH|CO_PROVA_LC|CO_PROVA_MT|NU_NOTA_CN|NU_NOTA_CH|NU_NOTA_LC|NU_NOTA_MT|     TX_RESPOSTAS_CH|     TX_RESPOSTAS_LC|     TX_RESPOSTAS_MT|TP_LINGUA|      TX_GABARITO_CN|      TX_GABARITO_CH|      TX_GABARITO_LC|      TX_GABARITO_MT|TP_STATUS_REDACAO|NU_NOTA_COMP1|NU_NOTA_COMP2|NU_NOTA_COMP3|NU_NOTA_COMP4|NU_NOTA_COMP5|NU_NOTA_REDACAO|Q001|Q002|Q003|Q004|Q005|Q006|Q007|Q008|Q009|Q010|Q011|Q012|Q013|Q014|Q015|Q016|Q017|Q018|Q019|Q020|Q021|Q022|Q023|Q024|Q025|\n",
            "+------------+------+---------------+-------+---------------+-----------+----------------+---------------+---------------+---------+---------+------------+----------------+-------------------+---------+---------+----------------------+------------------+---------------+------------------+-------------------+-----------+-----------+--------------+--------------+--------------+--------------+-----------+-----------+-----------+-----------+----------+----------+----------+----------+--------------------+--------------------+--------------------+---------+--------------------+--------------------+--------------------+--------------------+-----------------+-------------+-------------+-------------+-------------+-------------+---------------+----+----+----+----+----+----+----+----+----+----+----+----+----+----+----+----+----+----+----+----+----+----+----+----+----+\n",
            "|200006271946|  2020|             11|      F|              1|          2|               1|              1|             11|        1|     null|           0|            null|               null|     null|     null|                  null|              null|           null|           1501402|              Bel�m|         15|         PA|             0|             0|             0|             0|       null|       null|       null|       null|      null|      null|      null|      null|                null|                null|                null|        1|                null|                null|                null|                null|             null|         null|         null|         null|         null|         null|           null|null|null|null|null|null|null|null|null|null|null|null|null|null|null|null|null|null|null|null|null|null|null|null|null|null|\n",
            "|200001195856|  2020|             11|      M|              2|          3|               1|              1|             11|        1|     null|           0|            null|               null|     null|     null|                  null|              null|           null|           2408102|              Natal|         24|         RN|             1|             1|             1|             1|        702|        689|        693|        698|     604.1|     661.7|     595.3|     711.3|BCAECABCDCEBDBBBD...|99999CADDEDADBAAB...|EBEBDEDAECBADCADD...|        1|ABBACBCCCDDDDBAEE...|BCEECDBCCDEBDBBBB...|99999CBDDEDBDBACE...|BBEADECAECBBXCEBA...|                1|          120|          120|          120|          120|          100|            580|null|null|null|null|null|null|null|null|null|null|null|null|null|null|null|null|null|null|null|null|null|null|null|null|null|\n",
            "|200001943954|  2020|              4|      F|              2|          3|               2|              2|              0|        2|        1|           0|         2927408|           Salvador|       29|       BA|                     2|                 1|              1|           2927408|           Salvador|         29|         BA|             0|             0|             0|             0|       null|       null|       null|       null|      null|      null|      null|      null|                null|                null|                null|        0|                null|                null|                null|                null|             null|         null|         null|         null|         null|         null|           null|   B|   C|   A|   D|   3|   B|   A|   B|   A|   A|   A|   B|   A|   B|   A|   B|   A|   A|   B|   A|   A|   A|   A|   A|   A|\n",
            "|200001908998|  2020|              2|      M|              1|          3|               1|              2|              0|        2|        1|           0|         3547304|Santana de Parna�ba|       35|       SP|                     3|                 1|              1|           3547304|Santana de Parna�ba|         35|         SP|             1|             1|             1|             1|        700|        688|        692|        696|     620.8|     675.0|     624.2|     759.4|DABCCACCBCCDCADBD...|DCEAB99999AADAECC...|CBDBDCCDDEECBAABB...|        0|BDECCACBEBDEAEDAE...|DABCCAECBABECADBD...|DCEAD99999AADACCC...|EBDBXCCDAEECBAABA...|                1|          140|          200|          140|          120|          160|            760|null|null|null|null|null|null|null|null|null|null|null|null|null|null|null|null|null|null|null|null|null|null|null|null|null|\n",
            "|200001634757|  2020|              4|      F|              1|          3|               2|              1|              1|        1|     null|           0|            null|               null|     null|     null|                  null|              null|           null|           3121605|         Diamantina|         31|         MG|             0|             0|             0|             0|       null|       null|       null|       null|      null|      null|      null|      null|                null|                null|                null|        1|                null|                null|                null|                null|             null|         null|         null|         null|         null|         null|           null|   B|   G|   B|   B|   3|   B|   A|   B|   D|   A|   A|   B|   A|   B|   A|   A|   A|   A|   B|   A|   B|   B|   A|   A|   B|\n",
            "+------------+------+---------------+-------+---------------+-----------+----------------+---------------+---------------+---------+---------+------------+----------------+-------------------+---------+---------+----------------------+------------------+---------------+------------------+-------------------+-----------+-----------+--------------+--------------+--------------+--------------+-----------+-----------+-----------+-----------+----------+----------+----------+----------+--------------------+--------------------+--------------------+---------+--------------------+--------------------+--------------------+--------------------+-----------------+-------------+-------------+-------------+-------------+-------------+---------------+----+----+----+----+----+----+----+----+----+----+----+----+----+----+----+----+----+----+----+----+----+----+----+----+----+\n",
            "only showing top 5 rows\n",
            "\n"
          ]
        }
      ]
    }
  ],
  "metadata": {
    "colab": {
      "collapsed_sections": [],
      "provenance": []
    },
    "kernelspec": {
      "display_name": "Python 3",
      "name": "python3"
    },
    "language_info": {
      "name": "python"
    }
  },
  "nbformat": 4,
  "nbformat_minor": 0
}